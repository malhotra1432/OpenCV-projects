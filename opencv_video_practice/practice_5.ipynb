{
 "cells": [
  {
   "cell_type": "code",
   "execution_count": 1,
   "metadata": {},
   "outputs": [],
   "source": [
    "# Creating a mini project to draw circlr when the mouse is clicked\n",
    "\n",
    "import cv2\n",
    "# Create a funvtion based on a CV2 Event (LEFT BUTTON CLICK)\n",
    "\n",
    "# Mouse Callback Function\n",
    "def draw_circle(event,x,y,flags,param):\n",
    "    global center,clicked \n",
    "    \n",
    "    # get mouse click on down and track center\n",
    "    if event == cv2.EVENT_LBUTTONDOWN:\n",
    "        center = (x,y)\n",
    "        clicked = False\n",
    "    # Use boolean variable to track if the mouse has been released\n",
    "    if event == cv2.EVENT_LBUTTONUP:\n",
    "        clicked = True\n",
    "        \n",
    "    \n",
    "# Haven't drawn anything yet\n",
    "center = (0,0)\n",
    "clicked = False\n",
    "\n",
    "# Capture Video\n",
    "cap = cv2.VideoCapture(0)\n",
    "\n",
    "# Create a namaed window for connection\n",
    "cv2.namedWindow('Test')\n",
    "\n",
    "# Bind draw_circlefunction to mouse clicks\n",
    "cv2.setMouseCallback('Test',draw_circle)\n",
    "\n",
    "while True:\n",
    "    \n",
    "    # Capture frame-by-frame\n",
    "    ret,frame = cap.read()\n",
    "    \n",
    "    # Use if statement to see if clicked is true\n",
    "    if clicked == True:\n",
    "        # Draw circle on frame\n",
    "        cv2.circle(frame,center=center,radius=50,color=(255,0,0),thickness=5)\n",
    "        \n",
    "    # Displey the resulting frame\n",
    "    cv2.imshow('Test',frame)\n",
    "        \n",
    "    # This command Let's quit the window with the 'q' button on keyboard\n",
    "    if cv2.waitKey(1) & 0xFF == ord('q'):\n",
    "        break\n",
    "\n",
    "# When everything is done, release the capture\n",
    "cap.release()\n",
    "cv2.destroyAllWindows()\n"
   ]
  },
  {
   "cell_type": "code",
   "execution_count": null,
   "metadata": {},
   "outputs": [],
   "source": []
  }
 ],
 "metadata": {
  "kernelspec": {
   "display_name": "Python 3",
   "language": "python",
   "name": "python3"
  },
  "language_info": {
   "codemirror_mode": {
    "name": "ipython",
    "version": 3
   },
   "file_extension": ".py",
   "mimetype": "text/x-python",
   "name": "python",
   "nbconvert_exporter": "python",
   "pygments_lexer": "ipython3",
   "version": "3.7.1"
  }
 },
 "nbformat": 4,
 "nbformat_minor": 2
}
